{
  "nbformat": 4,
  "nbformat_minor": 0,
  "metadata": {
    "kernelspec": {
      "name": "python3",
      "display_name": "Python 3"
    },
    "language_info": {
      "codemirror_mode": {
        "name": "ipython",
        "version": 3
      },
      "file_extension": ".py",
      "mimetype": "text/x-python",
      "name": "python",
      "nbconvert_exporter": "python",
      "pygments_lexer": "ipython3",
      "version": "3.6.5"
    },
    "toc": {
      "base_numbering": 1,
      "nav_menu": {},
      "number_sections": true,
      "sideBar": true,
      "skip_h1_title": false,
      "title_cell": "Table of Contents",
      "title_sidebar": "Contents",
      "toc_cell": false,
      "toc_position": {},
      "toc_section_display": true,
      "toc_window_display": false
    },
    "varInspector": {
      "cols": {
        "lenName": 16,
        "lenType": 16,
        "lenVar": 40
      },
      "kernels_config": {
        "python": {
          "delete_cmd_postfix": "",
          "delete_cmd_prefix": "del ",
          "library": "var_list.py",
          "varRefreshCmd": "print(var_dic_list())"
        },
        "r": {
          "delete_cmd_postfix": ") ",
          "delete_cmd_prefix": "rm(",
          "library": "var_list.r",
          "varRefreshCmd": "cat(var_dic_list()) "
        }
      },
      "types_to_exclude": [
        "module",
        "function",
        "builtin_function_or_method",
        "instance",
        "_Feature"
      ],
      "window_display": true
    },
    "colab": {
      "name": "theHobbitTheGame.ipynb",
      "provenance": [],
      "toc_visible": true
    },
    "accelerator": "GPU"
  },
  "cells": [
    {
      "cell_type": "markdown",
      "metadata": {
        "id": "8tkPF_B1ghI_",
        "colab_type": "text"
      },
      "source": [
        "# Python Game \n"
      ]
    },
    {
      "cell_type": "code",
      "metadata": {
        "id": "PP4k8CwzcxjM",
        "colab_type": "code",
        "colab": {}
      },
      "source": [
        "import sys\n",
        "from time import sleep\n",
        "import random\n",
        "\n"
      ],
      "execution_count": 0,
      "outputs": []
    },
    {
      "cell_type": "markdown",
      "metadata": {
        "id": "o8VRvQbZghJD",
        "colab_type": "text"
      },
      "source": [
        "# Global Variables"
      ]
    },
    {
      "cell_type": "code",
      "metadata": {
        "id": "U6565NQLghJF",
        "colab_type": "code",
        "colab": {}
      },
      "source": [
        "hobbitName = input(\"What's your Hobbit name?\")\n",
        "bilboRelationship = input(\"What's your relationship with Bilbo? friend/family\")\n",
        "adventureSense = input(\"from 1 to 4 how adventurous are you?\")\n",
        "smellyFeet = input(\"Do you have smelly feet? yes/no\")"
      ],
      "execution_count": 0,
      "outputs": []
    },
    {
      "cell_type": "markdown",
      "metadata": {
        "id": "xbeYEovzghJO",
        "colab_type": "text"
      },
      "source": [
        "## Ascii Art "
      ]
    },
    {
      "cell_type": "code",
      "metadata": {
        "id": "jcMQRiIgghJP",
        "colab_type": "code",
        "colab": {}
      },
      "source": [
        "# Ascii Art\n",
        "\n",
        "bilbo = (\"\"\"\\\n",
        "                       /\\\n",
        "        _/\\           /  \\\n",
        "    _  /   \\         /    \\/\\\n",
        "   / \\/   _ \\     /\\/\\  _  _/\\\n",
        "  /   \\_ / \\/\\_/\\/_/  \\/ \\/   \\\n",
        " /\\/\\   \\_   /   \\/            \\\n",
        "/    \\___/\\ /     \\             \\\n",
        "           \\       \\             \\\n",
        "           .-\"---.  \\             \\\n",
        "__..---.. /       \\  \\             \\\n",
        "         /\\___.-'./\\''--..____..--''\n",
        "`-.      \\/ O) (O \\/ ''--.._\n",
        "    __    |  (_)  |         _.-'-._\n",
        "   / /  __/\\\\___//\\__ ..--''-._\n",
        "   | (_/\\ \\/`---'\\/ /\\         `-._\n",
        "_.-\\ \\/  \\  \\   /  /  \\.-'-._\n",
        "   /\\|   /  -| |-  \\   \\     `-._\n",
        "  | ||  /\\  -| |-  /\\   \\        `-.\n",
        "   \\/|_/ |  -|_\\-  |/   /\n",
        "   \\ \\   /  /B_B\\  \\\\  /\n",
        "   / (   \\_/  _  \\_/ \\/\n",
        ".__\\ \\   /    |    \\_/\n",
        "   ) /''-| __ | __ |\n",
        "   |(    \\    |    /---...___\n",
        "   /|    /____|____\\         '-._\n",
        "   ||     |   ||   |\n",
        "   \\\\     ///\\\\//\\\\\\\n",
        "jro \\|   oOO(_)(_)OOo\n",
        "\n",
        "\n",
        "\"\"\")\n",
        "\n",
        "print(bilbo)"
      ],
      "execution_count": 0,
      "outputs": []
    },
    {
      "cell_type": "markdown",
      "metadata": {
        "id": "Huul39TtghJX",
        "colab_type": "text"
      },
      "source": [
        "## Helper Functions"
      ]
    },
    {
      "cell_type": "code",
      "metadata": {
        "id": "UPKWEotTghJZ",
        "colab_type": "code",
        "colab": {}
      },
      "source": [
        "# helper functions \n",
        "\n",
        "\n",
        "def failure():\n",
        "    print('_'*80)\n",
        "    \n",
        "    print(f\"\"\" \\n \n",
        "\n",
        "┼┼┼┼┼┼┼┼┼┼┼┼┼┼┼┼┼┼┼┼┼┼┼┼┼┼┼┼┼┼┼┼┼┼┼┼\n",
        "███▀▀▀██┼███▀▀▀███┼███▀█▄█▀███┼██▀▀▀\n",
        "██┼┼┼┼██┼██┼┼┼┼┼██┼██┼┼┼█┼┼┼██┼██┼┼┼\n",
        "██┼┼┼▄▄▄┼██▄▄▄▄▄██┼██┼┼┼▀┼┼┼██┼██▀▀▀\n",
        "██┼┼┼┼██┼██┼┼┼┼┼██┼██┼┼┼┼┼┼┼██┼██┼┼┼\n",
        "███▄▄▄██┼██┼┼┼┼┼██┼██┼┼┼┼┼┼┼██┼██▄▄▄\n",
        "┼┼┼┼┼┼┼┼┼┼┼┼┼┼┼┼┼┼┼┼┼┼┼┼┼┼┼┼┼┼┼┼┼┼┼┼\n",
        "███▀▀▀███┼▀███┼┼██▀┼██▀▀▀┼██▀▀▀▀██▄┼\n",
        "██┼┼┼┼┼██┼┼┼██┼┼██┼┼██┼┼┼┼██┼┼┼┼┼██┼\n",
        "██┼┼┼┼┼██┼┼┼██┼┼██┼┼██▀▀▀┼██▄▄▄▄▄▀▀┼\n",
        "██┼┼┼┼┼██┼┼┼██┼┼█▀┼┼██┼┼┼┼██┼┼┼┼┼██┼\n",
        "███▄▄▄███┼┼┼─▀█▀┼┼─┼██▄▄▄┼██┼┼┼┼┼██▄\n",
        "┼┼┼┼┼┼┼┼┼┼┼┼┼┼┼┼┼┼┼┼┼┼┼┼┼┼┼┼┼┼┼┼┼┼┼┼\n",
        "┼┼┼┼┼┼┼┼██┼┼┼┼┼┼┼┼┼┼┼┼┼┼┼██┼┼┼┼┼┼┼┼┼\n",
        "┼┼┼┼┼┼████▄┼┼┼▄▄▄▄▄▄▄┼┼┼▄████┼┼┼┼┼┼┼\n",
        "┼┼┼┼┼┼┼┼┼▀▀█▄█████████▄█▀▀┼┼┼┼┼┼┼┼┼┼\n",
        "┼┼┼┼┼┼┼┼┼┼┼█████████████┼┼┼┼┼┼┼┼┼┼┼┼\n",
        "┼┼┼┼┼┼┼┼┼┼┼██▀▀▀███▀▀▀██┼┼┼┼┼┼┼┼┼┼┼┼\n",
        "┼┼┼┼┼┼┼┼┼┼┼██┼┼┼███┼┼┼██┼┼┼┼┼┼┼┼┼┼┼┼\n",
        "┼┼┼┼┼┼┼┼┼┼┼█████▀▄▀█████┼┼┼┼┼┼┼┼┼┼┼┼\n",
        "┼┼┼┼┼┼┼┼┼┼┼┼███████████┼┼┼┼┼┼┼┼┼┼┼┼┼\n",
        "┼┼┼┼┼┼┼┼▄▄▄██┼┼█▀█▀█┼┼██▄▄▄┼┼┼┼┼┼┼┼┼\n",
        "┼┼┼┼┼┼┼┼▀▀██┼┼┼┼┼┼┼┼┼┼┼██▀▀┼┼┼┼┼┼┼┼┼\n",
        "┼┼┼┼┼┼┼┼┼┼▀▀┼┼┼┼┼┼┼┼┼┼┼▀▀┼┼┼┼┼┼┼┼┼┼┼\n",
        "┼┼┼┼┼┼┼┼┼┼┼┼┼┼┼┼┼┼┼┼┼┼┼┼┼┼┼┼┼┼┼┼┼┼┼┼\n",
        "\"\"\")\n",
        "\n",
        "\n",
        "def pressEnter():\n",
        "    input(\"Press Enter to Continue...\\n\")\n",
        "\n",
        "\n",
        "def typeWriter(text):\n",
        "    for char in text:\n",
        "        sleep(0.1)\n",
        "        sys.stdout.write(char)\n",
        "        sys.stdout.flush()"
      ],
      "execution_count": 0,
      "outputs": []
    },
    {
      "cell_type": "markdown",
      "metadata": {
        "id": "2kB0t6J5ghJl",
        "colab_type": "text"
      },
      "source": [
        "## Introduction"
      ]
    },
    {
      "cell_type": "code",
      "metadata": {
        "id": "MybhtdmlghJn",
        "colab_type": "code",
        "outputId": "e408b56e-7e9f-4e97-d262-0e1236a31dea",
        "colab": {
          "base_uri": "https://localhost:8080/",
          "height": 438
        }
      },
      "source": [
        "#Introduction \n",
        "\n",
        "\n",
        "def intro():\n",
        "   \n",
        "    typeWriter(\n",
        "    f\"\"\"\n",
        "    \n",
        "    In a hole in the ground there lived a hobbit. \n",
        "    Not a nasty, dirty, wet  hole,  filled  with  the  ends  of  worms  and  an  oozy  smell, \n",
        "    nor yet a dry, bare, sandy hole with nothing in it to sit down on or to eat: \n",
        "    it was a  hobbit-hole,  and  that  means  comfort.\n",
        "    \n",
        "    \n",
        "    \"\"\")\n",
        "\n",
        "    \n",
        "    pressEnter()\n",
        "    \n",
        "    typeWriter(\n",
        "    \n",
        "    \"\"\"\n",
        "    \n",
        "    This  hobbit  was  a  very  well-to-do  hobbit,  and  his  name  was Bilbo Baggins. \n",
        "    Despite he always was in his house, something happened… He suddenly disappeared! \n",
        "    \n",
        "    \"\"\"\n",
        "    \n",
        "    )\n",
        "    \n",
        "intro()"
      ],
      "execution_count": 7,
      "outputs": [
        {
          "output_type": "stream",
          "text": [
            "\n",
            "    \n",
            "    In a hole in the ground there lived a hobbit. \n",
            "    Not a nasty, dirty, wet  hole,  filled  with  the  ends  of  worms  and  an  oozy  smell, \n",
            "    nor yet a dry, bare, sandy hole with nothing in it to sit down on or to eat: \n",
            "    it was a  hobb"
          ],
          "name": "stdout"
        },
        {
          "output_type": "error",
          "ename": "KeyboardInterrupt",
          "evalue": "ignored",
          "traceback": [
            "\u001b[0;31m---------------------------------------------------------------------------\u001b[0m",
            "\u001b[0;31mKeyboardInterrupt\u001b[0m                         Traceback (most recent call last)",
            "\u001b[0;32m<ipython-input-7-04e5af0f96da>\u001b[0m in \u001b[0;36m<module>\u001b[0;34m()\u001b[0m\n\u001b[1;32m     28\u001b[0m     )\n\u001b[1;32m     29\u001b[0m \u001b[0;34m\u001b[0m\u001b[0m\n\u001b[0;32m---> 30\u001b[0;31m \u001b[0mintro\u001b[0m\u001b[0;34m(\u001b[0m\u001b[0;34m)\u001b[0m\u001b[0;34m\u001b[0m\u001b[0;34m\u001b[0m\u001b[0m\n\u001b[0m",
            "\u001b[0;32m<ipython-input-7-04e5af0f96da>\u001b[0m in \u001b[0;36mintro\u001b[0;34m()\u001b[0m\n\u001b[1;32m     12\u001b[0m \u001b[0;34m\u001b[0m\u001b[0m\n\u001b[1;32m     13\u001b[0m \u001b[0;34m\u001b[0m\u001b[0m\n\u001b[0;32m---> 14\u001b[0;31m     \"\"\")\n\u001b[0m\u001b[1;32m     15\u001b[0m \u001b[0;34m\u001b[0m\u001b[0m\n\u001b[1;32m     16\u001b[0m \u001b[0;34m\u001b[0m\u001b[0m\n",
            "\u001b[0;32m<ipython-input-6-1be027c71896>\u001b[0m in \u001b[0;36mtypeWriter\u001b[0;34m(text)\u001b[0m\n\u001b[1;32m     40\u001b[0m \u001b[0;32mdef\u001b[0m \u001b[0mtypeWriter\u001b[0m\u001b[0;34m(\u001b[0m\u001b[0mtext\u001b[0m\u001b[0;34m)\u001b[0m\u001b[0;34m:\u001b[0m\u001b[0;34m\u001b[0m\u001b[0;34m\u001b[0m\u001b[0m\n\u001b[1;32m     41\u001b[0m     \u001b[0;32mfor\u001b[0m \u001b[0mchar\u001b[0m \u001b[0;32min\u001b[0m \u001b[0mtext\u001b[0m\u001b[0;34m:\u001b[0m\u001b[0;34m\u001b[0m\u001b[0;34m\u001b[0m\u001b[0m\n\u001b[0;32m---> 42\u001b[0;31m         \u001b[0msleep\u001b[0m\u001b[0;34m(\u001b[0m\u001b[0;36m0.1\u001b[0m\u001b[0;34m)\u001b[0m\u001b[0;34m\u001b[0m\u001b[0;34m\u001b[0m\u001b[0m\n\u001b[0m\u001b[1;32m     43\u001b[0m         \u001b[0msys\u001b[0m\u001b[0;34m.\u001b[0m\u001b[0mstdout\u001b[0m\u001b[0;34m.\u001b[0m\u001b[0mwrite\u001b[0m\u001b[0;34m(\u001b[0m\u001b[0mchar\u001b[0m\u001b[0;34m)\u001b[0m\u001b[0;34m\u001b[0m\u001b[0;34m\u001b[0m\u001b[0m\n\u001b[1;32m     44\u001b[0m         \u001b[0msys\u001b[0m\u001b[0;34m.\u001b[0m\u001b[0mstdout\u001b[0m\u001b[0;34m.\u001b[0m\u001b[0mflush\u001b[0m\u001b[0;34m(\u001b[0m\u001b[0;34m)\u001b[0m\u001b[0;34m\u001b[0m\u001b[0;34m\u001b[0m\u001b[0m\n",
            "\u001b[0;31mKeyboardInterrupt\u001b[0m: "
          ]
        }
      ]
    },
    {
      "cell_type": "code",
      "metadata": {
        "cell_style": "center",
        "id": "IqOJuOHYghJx",
        "colab_type": "code",
        "outputId": "d23c2b71-c5aa-42dd-fd68-eabac2fc6fbc",
        "colab": {
          "base_uri": "https://localhost:8080/",
          "height": 617
        }
      },
      "source": [
        "hobbitName = \"Diego\"\n",
        "bilboRelationship = \"friend\"\n",
        "adventureSense = '2'\n",
        "adventureSense = int(adventureSense)\n",
        "smellyFeet = 'yes'\n",
        "\n",
        "\n",
        "\n",
        "\n",
        "# Phase 1 \n",
        "\n",
        "\n",
        "def phaseOne():\n",
        "    \n",
        "    adv = input(\" Would you like to have and adventure? \\n\\n \")\n",
        "    phaseOneQuestions = ['yes','no']\n",
        "\n",
        "    while adv not in phaseOneQuestions:\n",
        "        print('please type yes or no')\n",
        "        adv = input(\"Would you like to have and adventure? \\n\\n \")\n",
        "        adv = adv.lower()\n",
        "\n",
        "    # Hobbits hate adventure, if the player selects yes automatically loose, otherwise the game continues\n",
        "    \n",
        "    if adv == 'yes':\n",
        "        print(' \\n A hobbit will never say that he/she loves adventures!')\n",
        "        failure()\n",
        "    else:\n",
        "        print(\"\\n Phase2 Comes here\")\n",
        "\n",
        "\n",
        "phaseOne()"
      ],
      "execution_count": 0,
      "outputs": [
        {
          "output_type": "stream",
          "text": [
            " Would you like to have and adventure? \n",
            "\n",
            " yes\n",
            " \n",
            " A hobbit will never say that he/she loves adventures!\n",
            "________________________________________________________________________________\n",
            " \n",
            " \n",
            "\n",
            "┼┼┼┼┼┼┼┼┼┼┼┼┼┼┼┼┼┼┼┼┼┼┼┼┼┼┼┼┼┼┼┼┼┼┼┼\n",
            "███▀▀▀██┼███▀▀▀███┼███▀█▄█▀███┼██▀▀▀\n",
            "██┼┼┼┼██┼██┼┼┼┼┼██┼██┼┼┼█┼┼┼██┼██┼┼┼\n",
            "██┼┼┼▄▄▄┼██▄▄▄▄▄██┼██┼┼┼▀┼┼┼██┼██▀▀▀\n",
            "██┼┼┼┼██┼██┼┼┼┼┼██┼██┼┼┼┼┼┼┼██┼██┼┼┼\n",
            "███▄▄▄██┼██┼┼┼┼┼██┼██┼┼┼┼┼┼┼██┼██▄▄▄\n",
            "┼┼┼┼┼┼┼┼┼┼┼┼┼┼┼┼┼┼┼┼┼┼┼┼┼┼┼┼┼┼┼┼┼┼┼┼\n",
            "███▀▀▀███┼▀███┼┼██▀┼██▀▀▀┼██▀▀▀▀██▄┼\n",
            "██┼┼┼┼┼██┼┼┼██┼┼██┼┼██┼┼┼┼██┼┼┼┼┼██┼\n",
            "██┼┼┼┼┼██┼┼┼██┼┼██┼┼██▀▀▀┼██▄▄▄▄▄▀▀┼\n",
            "██┼┼┼┼┼██┼┼┼██┼┼█▀┼┼██┼┼┼┼██┼┼┼┼┼██┼\n",
            "███▄▄▄███┼┼┼─▀█▀┼┼─┼██▄▄▄┼██┼┼┼┼┼██▄\n",
            "┼┼┼┼┼┼┼┼┼┼┼┼┼┼┼┼┼┼┼┼┼┼┼┼┼┼┼┼┼┼┼┼┼┼┼┼\n",
            "┼┼┼┼┼┼┼┼██┼┼┼┼┼┼┼┼┼┼┼┼┼┼┼██┼┼┼┼┼┼┼┼┼\n",
            "┼┼┼┼┼┼████▄┼┼┼▄▄▄▄▄▄▄┼┼┼▄████┼┼┼┼┼┼┼\n",
            "┼┼┼┼┼┼┼┼┼▀▀█▄█████████▄█▀▀┼┼┼┼┼┼┼┼┼┼\n",
            "┼┼┼┼┼┼┼┼┼┼┼█████████████┼┼┼┼┼┼┼┼┼┼┼┼\n",
            "┼┼┼┼┼┼┼┼┼┼┼██▀▀▀███▀▀▀██┼┼┼┼┼┼┼┼┼┼┼┼\n",
            "┼┼┼┼┼┼┼┼┼┼┼██┼┼┼███┼┼┼██┼┼┼┼┼┼┼┼┼┼┼┼\n",
            "┼┼┼┼┼┼┼┼┼┼┼█████▀▄▀█████┼┼┼┼┼┼┼┼┼┼┼┼\n",
            "┼┼┼┼┼┼┼┼┼┼┼┼███████████┼┼┼┼┼┼┼┼┼┼┼┼┼\n",
            "┼┼┼┼┼┼┼┼▄▄▄██┼┼█▀█▀█┼┼██▄▄▄┼┼┼┼┼┼┼┼┼\n",
            "┼┼┼┼┼┼┼┼▀▀██┼┼┼┼┼┼┼┼┼┼┼██▀▀┼┼┼┼┼┼┼┼┼\n",
            "┼┼┼┼┼┼┼┼┼┼▀▀┼┼┼┼┼┼┼┼┼┼┼▀▀┼┼┼┼┼┼┼┼┼┼┼\n",
            "┼┼┼┼┼┼┼┼┼┼┼┼┼┼┼┼┼┼┼┼┼┼┼┼┼┼┼┼┼┼┼┼┼┼┼┼\n",
            "\n"
          ],
          "name": "stdout"
        }
      ]
    },
    {
      "cell_type": "markdown",
      "metadata": {
        "id": "Tb9Vj5sIghJ4",
        "colab_type": "text"
      },
      "source": [
        "## Unexpected Gathering "
      ]
    },
    {
      "cell_type": "code",
      "metadata": {
        "id": "dQkSO1tUghJ6",
        "colab_type": "code",
        "colab": {}
      },
      "source": [
        "# Unexpected gathering \n",
        "\n",
        "\n",
        "def secondPhaseContext():\n",
        "    \n",
        "    print(\"\"\"\n",
        "\n",
        "    You were succesfull in convincing Gandalf that you are Bilbo!  \n",
        "    \n",
        "    \"\"\")\n",
        "\n",
        "    pressEnter()\n",
        "    \n",
        "    print(\"\"\"\n",
        "    \n",
        "    13 Dwarves suddenly arrive to your home:\n",
        "    \n",
        "    Dwalin, Balin, Kili, Fili, Dori, Nori, Ori, Oin, Gloin, Bifur, Bofur, Bombur, and Thorin.\n",
        "    \n",
        "    \"\"\")\n",
        "    \n",
        "    pressEnter()\n",
        "\n",
        "    print(\"\"\"\n",
        "    \n",
        "    Your are confused about what's happening, \n",
        "    you don't know who is Bilbo and don't know who this people are!\n",
        "    \n",
        "    \"\"\")\n",
        "    \n",
        "    pressEnter()\n",
        "    \n",
        "    print(\"\"\"\n",
        "    \n",
        "    Suddenly you remember your great ability in telling great jokes!   \n",
        "    \n",
        "    \"\"\")\n",
        "    \n",
        "    pressEnter()\n",
        "    \n",
        "    print(\"\"\"\n",
        "    \n",
        "    You decide that you will crack some jokes in order to get the dwarves' trust...\n",
        "    \n",
        "    \"\"\")\n",
        "    \n",
        "def secondPhase():\n",
        "    \n",
        "# Improve Jokes \n",
        "\n",
        "    print(f\"\"\"\n",
        "    \n",
        "    Ehem, Ehem... me, {hobbitName}... BILBO I mean! I am Bilbo! \n",
        "    \n",
        "    Me, Bilbo will now tell you a joke. I hope you like it!\n",
        "    \n",
        "    \"\"\")\n",
        "    \n",
        "    pressEnter()\n",
        "    \n",
        "    jokes = {\"jokes\":[\"what do you call a chubby dwarf?\",\n",
        "                      \"How many times does a dwarf laugh at a joke?\", \n",
        "                 \"Why are most hobbits good guys?\",\n",
        "                  \"Why Gandalf was always smoking that pipe?\",\n",
        "                      \"Why did the hobbit fall\"], \n",
        "             \"PunchLines\": [\"Low Fat!\",\n",
        "                            \"Three times: \\n Once when he hears it, once when it's explained to him, and once when he gets it.\",\n",
        "                       \"Because they don't look down on people\",\n",
        "                       \"Because he had a bad Hobbit!\",\n",
        "                           \"He had a Frodoian slip\"]}\n",
        "\n",
        "    \n",
        " \n",
        "\n",
        "\n",
        "    if adventureSense >= 2:\n",
        "\n",
        "        jokeList = random.choices([0,1,2,3], weights=[40,40,10,10])\n",
        "        jokeNumber = jokeList[0]\n",
        "        \n",
        "        print(jokes['jokes'][jokeNumber])\n",
        "\n",
        "        pressEnter()\n",
        "        \n",
        "        print(jokes['PunchLines'][jokeNumber])\n",
        "        \n",
        "\n",
        "\n",
        "    else:\n",
        "\n",
        "        jokeList = random.choices([0,1,2,3], weights=[10,10,40,40])\n",
        "        jokeNumber = jokeList[0]\n",
        "\n",
        "        print(jokes['jokes'][jokeNumber],\"\\n\")\n",
        "\n",
        "        pressEnter()\n",
        "\n",
        "        print(jokes['PunchLines'][jokeNumber],\"\\n\")\n",
        "\n",
        "    \n",
        "    if jokeNumber <= 1:\n",
        "        \n",
        "        print(f\"\"\" \n",
        "        \\n Because you said that your adventure level is {adventureSense}, you risked it and offended the dwarves!\n",
        "        The Dwarves tie you to a column and leave your house with all your groceries\n",
        "        \n",
        "        \"\"\")\n",
        "        failure()\n",
        "        \n",
        "    else: \n",
        "        print(\"\"\"\n",
        "        \n",
        "        Congrats! Your joke was enough to entertain the dwarves and gain a bit of their trust!! \n",
        "        \n",
        "        \"\"\")\n",
        "        \n",
        "        pressEnter()\n",
        "        \n",
        "        # CHECK AGAIN THE STORY OF THE HOBBIT!!!!!\n",
        "        print(f\"\"\"\n",
        "        \n",
        "        Thanks to your natural abilities to gain trust from others, the dwarves hand you a contract. \n",
        "        This contract is to go to smokey mountain and rob the blabla\n",
        "        \n",
        "        \"\"\")\n",
        "        \n",
        "        print(\"Phase 3 goes here\")\n",
        "\n",
        "# secondPhaseContext() \n",
        "\n",
        "\n",
        "secondPhase()\n"
      ],
      "execution_count": 0,
      "outputs": []
    },
    {
      "cell_type": "markdown",
      "metadata": {
        "id": "_iPBKmgcbSGD",
        "colab_type": "text"
      },
      "source": [
        "### Phase 3 - Goblins"
      ]
    },
    {
      "cell_type": "code",
      "metadata": {
        "id": "A12YiVbIghKC",
        "colab_type": "code",
        "outputId": "841dd154-0814-44bb-daac-c2355f315195",
        "colab": {}
      },
      "source": [
        "# Phase 3 \n",
        "\n",
        "\n",
        "def thirdPhase():\n",
        "  \n"
      ],
      "execution_count": 0,
      "outputs": [
        {
          "output_type": "stream",
          "text": [
            "________________________________________________________________________________\n"
          ],
          "name": "stdout"
        }
      ]
    },
    {
      "cell_type": "code",
      "metadata": {
        "id": "zPEL_V4jghKL",
        "colab_type": "code",
        "outputId": "75c77f93-200c-4754-9cef-fe41b13b63d5",
        "colab": {}
      },
      "source": [
        "jokeNumber = random.choices([0,1,2,3], weights=[40,40,10,10])\n",
        "\n",
        "jokeNumber[0]"
      ],
      "execution_count": 0,
      "outputs": [
        {
          "output_type": "execute_result",
          "data": {
            "text/plain": [
              "1"
            ]
          },
          "metadata": {
            "tags": []
          },
          "execution_count": 68
        }
      ]
    }
  ]
}